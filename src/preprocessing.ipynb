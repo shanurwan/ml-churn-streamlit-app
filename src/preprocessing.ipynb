{
 "cells": [
  {
   "cell_type": "code",
   "execution_count": 1,
   "id": "3a2b070f-db09-40d9-8300-ca56ed7e3f13",
   "metadata": {},
   "outputs": [],
   "source": [
    "import pandas as pd\n",
    "import numpy as np\n",
    "\n",
    "def preprocess_customer_data(df: pd.DataFrame, today: str = \"2030-06-16\") -> pd.DataFrame:\n",
    "   \n",
    "    # Replace missing last_login_date with signup_date\n",
    "    df['last_login_date'] = df['last_login_date'].fillna(df['signup_date'])\n",
    "\n",
    "    # Convert date columns to datetime\n",
    "    df['signup_date'] = pd.to_datetime(df['signup_date'])\n",
    "    df['last_login_date'] = pd.to_datetime(df['last_login_date'])\n",
    "\n",
    "    # Reference point for time features\n",
    "    today = pd.to_datetime(today)\n",
    "\n",
    "    # Feature engineering\n",
    "    df['days_since_signup'] = (today - df['signup_date']).dt.days\n",
    "    df['days_since_last_login'] = (today - df['last_login_date']).dt.days\n",
    "\n",
    "    # Avoid zero division in login_gap\n",
    "    df['login_gap'] = df['days_since_signup'] - df['days_since_last_login']\n",
    "    df['login_gap'] = df['login_gap'].replace(0, 1e-6)\n",
    "\n",
    "    df['login_frequency'] = df['days_since_signup'] / df['login_gap']\n",
    "    df['engagement_score'] = (df['job_posts'] + df['applications_received']) / df['days_since_signup'].replace(0, 1e-6)\n",
    "    df['support_intensity'] = df['support_tickets'] / df['days_since_signup'].replace(0, 1e-6)\n",
    "\n",
    "    # Encode plan_type\n",
    "    plan_map = {\"free\": 0, \"basic\": 1, \"premium\": 2, \"enterprise\": 3}\n",
    "    df['plan_type'] = df['plan_type'].str.lower().map(plan_map)\n",
    "\n",
    "    return df\n",
    "\n"
   ]
  },
  {
   "cell_type": "code",
   "execution_count": null,
   "id": "2320fbb1-2458-4da1-b2eb-4a3cc94a8af8",
   "metadata": {},
   "outputs": [],
   "source": []
  }
 ],
 "metadata": {
  "kernelspec": {
   "display_name": "Python 3 (ipykernel)",
   "language": "python",
   "name": "python3"
  },
  "language_info": {
   "codemirror_mode": {
    "name": "ipython",
    "version": 3
   },
   "file_extension": ".py",
   "mimetype": "text/x-python",
   "name": "python",
   "nbconvert_exporter": "python",
   "pygments_lexer": "ipython3",
   "version": "3.12.9"
  }
 },
 "nbformat": 4,
 "nbformat_minor": 5
}
